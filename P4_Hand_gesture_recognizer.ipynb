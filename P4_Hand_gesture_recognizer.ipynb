{
 "cells": [
  {
   "cell_type": "markdown",
   "metadata": {},
   "source": [
    "# Project 4: Hand Gesture Recognizer using Machine Learning"
   ]
  },
  {
   "cell_type": "markdown",
   "metadata": {},
   "source": [
    "Develop a hand gesture recognition model that can accurately identify and classify different hand gestures from image or video data, enabling intuitive human-computer interaction and gesture-based control systems."
   ]
  },
  {
   "cell_type": "code",
   "execution_count": null,
   "metadata": {},
   "outputs": [],
   "source": []
  },
  {
   "cell_type": "code",
   "execution_count": null,
   "metadata": {
    "_cell_guid": "b1076dfc-b9ad-4769-8c92-a6c4dae69d19",
    "_uuid": "8f2839f25d086af736a60e9eeb907d3b93b6e0e5",
    "execution": {
     "iopub.execute_input": "2023-08-25T11:16:32.409780Z",
     "iopub.status.busy": "2023-08-25T11:16:32.409369Z",
     "iopub.status.idle": "2023-08-25T11:17:31.855567Z",
     "shell.execute_reply": "2023-08-25T11:17:31.854062Z",
     "shell.execute_reply.started": "2023-08-25T11:16:32.409742Z"
    },
    "scrolled": true
   },
   "outputs": [],
   "source": [
    "import numpy as np\n",
    "import pandas as pd\n",
    "\n",
    "import os\n",
    "#for dirname, _, filenames in os.walk('/kaggle/input'):\n",
    "    #for filename in filenames:\n",
    "        #print(os.path.join(dirname, filename))\n",
    "        \n",
    "import cv2\n",
    "import random\n",
    "import itertools\n",
    "import seaborn as sns\n",
    "import matplotlib.pyplot as plt\n",
    "\n",
    "from keras.models import Sequential\n",
    "from sklearn.metrics import f1_score\n",
    "from keras.optimizers import RMSprop,Adam\n",
    "from sklearn.metrics import confusion_matrix\n",
    "from keras.callbacks import ReduceLROnPlateau\n",
    "from keras.utils.np_utils import to_categorical\n",
    "from sklearn.model_selection import train_test_split\n",
    "from keras.preprocessing.image import ImageDataGenerator\n",
    "from sklearn.preprocessing import LabelEncoder, OneHotEncoder\n",
    "from keras.layers import Dense, Dropout, Flatten, Conv2D, MaxPool2D"
   ]
  },
  {
   "cell_type": "code",
   "execution_count": null,
   "metadata": {
    "execution": {
     "iopub.execute_input": "2023-08-25T11:17:59.844304Z",
     "iopub.status.busy": "2023-08-25T11:17:59.843168Z",
     "iopub.status.idle": "2023-08-25T11:22:42.427596Z",
     "shell.execute_reply": "2023-08-25T11:22:42.426192Z",
     "shell.execute_reply.started": "2023-08-25T11:17:59.844258Z"
    }
   },
   "outputs": [],
   "source": [
    "base_data_dir = \"/kaggle/input/leapgestrecog/leapGestRecog\"\n",
    "gestures = [\"01_palm\", \"02_l\", \"03_fist\", \"04_fist_moved\", \"05_thumb\", \"06_index\", \"07_ok\", \"08_palm_moved\", \"09_c\", \"10_down\"]\n",
    "data = []\n",
    "image_size = (50, 50)\n",
    "\n",
    "for subject in range(10):\n",
    "    subject_data_dir = os.path.join(base_data_dir, f\"{subject:02d}\")\n",
    "    for gesture in gestures:\n",
    "        gesture_dir = os.path.join(subject_data_dir, gesture)\n",
    "        if os.path.exists(gesture_dir):\n",
    "            for filename in os.listdir(gesture_dir):\n",
    "                if filename.endswith(\".png\"):\n",
    "                    image_path = os.path.join(gesture_dir, filename)\n",
    "                    image = cv2.imread(image_path, cv2.IMREAD_GRAYSCALE)\n",
    "                    resized_image = cv2.resize(image, image_size)\n",
    "                    data.append({\"gesture\": gesture, \"image\": resized_image})\n",
    "\n",
    "total_data_count = len(data)\n",
    "print(f\"Toplam veri sayısı: {total_data_count}\")"
   ]
  },
  {
   "cell_type": "code",
   "execution_count": null,
   "metadata": {
    "execution": {
     "iopub.execute_input": "2023-08-25T11:22:53.473822Z",
     "iopub.status.busy": "2023-08-25T11:22:53.473010Z",
     "iopub.status.idle": "2023-08-25T11:22:54.161581Z",
     "shell.execute_reply": "2023-08-25T11:22:54.160016Z",
     "shell.execute_reply.started": "2023-08-25T11:22:53.473768Z"
    }
   },
   "outputs": [],
   "source": [
    "num_samples_to_display = 5\n",
    "plt.figure(figsize=(12, 8))\n",
    "\n",
    "for i in range(num_samples_to_display):\n",
    "    random_index = random.randint(0, len(data) - 1)\n",
    "    sample = data[random_index]\n",
    "    gesture = sample['gesture']\n",
    "    image = sample['image']\n",
    "    \n",
    "    plt.subplot(1, num_samples_to_display, i + 1)\n",
    "    plt.imshow(image, cmap='gray')\n",
    "    plt.title(gesture)\n",
    "    plt.axis('off')\n",
    "\n",
    "plt.tight_layout()\n",
    "plt.show()"
   ]
  },
  {
   "cell_type": "code",
   "execution_count": null,
   "metadata": {
    "execution": {
     "iopub.execute_input": "2023-08-25T11:23:00.345425Z",
     "iopub.status.busy": "2023-08-25T11:23:00.345027Z",
     "iopub.status.idle": "2023-08-25T11:23:00.639471Z",
     "shell.execute_reply": "2023-08-25T11:23:00.637756Z",
     "shell.execute_reply.started": "2023-08-25T11:23:00.345393Z"
    }
   },
   "outputs": [],
   "source": [
    "df = pd.DataFrame(data)\n",
    "X_train = np.array(df['image'].tolist())\n",
    "\n",
    "X_train = X_train.reshape(-1, 50, 50, 1)\n",
    "X_train = X_train / 255.0\n",
    "\n",
    "Y_train = df['gesture']\n",
    "\n",
    "print(\"X_train shape:\", X_train.shape)\n",
    "print(\"Y_train shape:\", Y_train.shape)"
   ]
  },
  {
   "cell_type": "code",
   "execution_count": null,
   "metadata": {
    "execution": {
     "iopub.execute_input": "2023-08-25T11:23:02.943625Z",
     "iopub.status.busy": "2023-08-25T11:23:02.943175Z",
     "iopub.status.idle": "2023-08-25T11:23:03.194634Z",
     "shell.execute_reply": "2023-08-25T11:23:03.192814Z",
     "shell.execute_reply.started": "2023-08-25T11:23:02.943593Z"
    }
   },
   "outputs": [],
   "source": [
    "label_encoder = LabelEncoder()\n",
    "numerical_labels = label_encoder.fit_transform(Y_train)\n",
    "\n",
    "onehot_encoder = OneHotEncoder(sparse_output=False)\n",
    "onehot_labels = onehot_encoder.fit_transform(numerical_labels.reshape(-1, 1))\n",
    "\n",
    "X_train, X_val, onehot_labels_train, onehot_labels_val = train_test_split(X_train, onehot_labels, test_size=0.1, random_state=2)"
   ]
  },
  {
   "cell_type": "code",
   "execution_count": null,
   "metadata": {
    "execution": {
     "iopub.execute_input": "2023-08-25T11:23:16.618214Z",
     "iopub.status.busy": "2023-08-25T11:23:16.617433Z",
     "iopub.status.idle": "2023-08-25T11:23:16.729456Z",
     "shell.execute_reply": "2023-08-25T11:23:16.728175Z",
     "shell.execute_reply.started": "2023-08-25T11:23:16.618174Z"
    }
   },
   "outputs": [],
   "source": [
    "model = Sequential()\n",
    "model.add(Conv2D(filters = 8, kernel_size = (5,5),padding = 'Same', \n",
    "                 activation ='relu', input_shape = (50,50,1)))\n",
    "model.add(MaxPool2D(pool_size=(2,2)))\n",
    "model.add(Dropout(0.25))\n",
    "\n",
    "model.add(Conv2D(filters = 16, kernel_size = (3,3),padding = 'Same', \n",
    "                 activation ='relu'))\n",
    "model.add(MaxPool2D(pool_size=(2,2), strides=(2,2)))\n",
    "model.add(Dropout(0.25))\n",
    "\n",
    "model.add(Flatten())\n",
    "model.add(Dense(256, activation = \"relu\"))\n",
    "model.add(Dropout(0.5))\n",
    "model.add(Dense(10, activation = \"softmax\"))"
   ]
  },
  {
   "cell_type": "code",
   "execution_count": null,
   "metadata": {
    "execution": {
     "iopub.execute_input": "2023-08-25T11:23:18.927177Z",
     "iopub.status.busy": "2023-08-25T11:23:18.926453Z",
     "iopub.status.idle": "2023-08-25T11:23:18.953499Z",
     "shell.execute_reply": "2023-08-25T11:23:18.952286Z",
     "shell.execute_reply.started": "2023-08-25T11:23:18.927138Z"
    }
   },
   "outputs": [],
   "source": [
    "optimizer = Adam(learning_rate=0.001, beta_1=0.9, beta_2=0.999)\n",
    "\n",
    "epochs = 10\n",
    "batch_size = 250\n",
    "\n",
    "model.compile(optimizer = optimizer , loss = \"categorical_crossentropy\", metrics=[\"accuracy\"])"
   ]
  },
  {
   "cell_type": "code",
   "execution_count": null,
   "metadata": {
    "execution": {
     "iopub.execute_input": "2023-08-25T11:23:21.441990Z",
     "iopub.status.busy": "2023-08-25T11:23:21.441515Z",
     "iopub.status.idle": "2023-08-25T11:27:00.552075Z",
     "shell.execute_reply": "2023-08-25T11:27:00.550889Z",
     "shell.execute_reply.started": "2023-08-25T11:23:21.441955Z"
    }
   },
   "outputs": [],
   "source": [
    "history = model.fit(X_train, onehot_labels_train, batch_size=batch_size,\n",
    "                    epochs=epochs, validation_data=(X_val, onehot_labels_val))"
   ]
  },
  {
   "cell_type": "code",
   "execution_count": null,
   "metadata": {
    "execution": {
     "iopub.execute_input": "2023-08-25T11:27:05.199729Z",
     "iopub.status.busy": "2023-08-25T11:27:05.199272Z",
     "iopub.status.idle": "2023-08-25T11:27:05.553351Z",
     "shell.execute_reply": "2023-08-25T11:27:05.551528Z",
     "shell.execute_reply.started": "2023-08-25T11:27:05.199691Z"
    }
   },
   "outputs": [],
   "source": [
    "plt.plot(history.history['val_loss'], color='b', label=\"validation loss\")\n",
    "plt.title(\"Test Loss\")\n",
    "plt.xlabel(\"Number of Epochs\")\n",
    "plt.ylabel(\"Loss\")\n",
    "plt.legend()\n",
    "plt.show()"
   ]
  },
  {
   "cell_type": "code",
   "execution_count": null,
   "metadata": {
    "execution": {
     "iopub.execute_input": "2023-08-25T11:27:09.953976Z",
     "iopub.status.busy": "2023-08-25T11:27:09.953529Z",
     "iopub.status.idle": "2023-08-25T11:27:11.041045Z",
     "shell.execute_reply": "2023-08-25T11:27:11.039716Z",
     "shell.execute_reply.started": "2023-08-25T11:27:09.953941Z"
    }
   },
   "outputs": [],
   "source": [
    "Y_pred = model.predict(X_val) \n",
    "Y_pred_classes = np.argmax(Y_pred,axis = 1) \n",
    "Y_true = np.argmax(onehot_labels_val ,axis = 1) "
   ]
  },
  {
   "cell_type": "code",
   "execution_count": null,
   "metadata": {
    "execution": {
     "iopub.execute_input": "2023-08-25T11:27:13.134160Z",
     "iopub.status.busy": "2023-08-25T11:27:13.132980Z",
     "iopub.status.idle": "2023-08-25T11:27:13.144086Z",
     "shell.execute_reply": "2023-08-25T11:27:13.142602Z",
     "shell.execute_reply.started": "2023-08-25T11:27:13.134118Z"
    }
   },
   "outputs": [],
   "source": [
    "f1 = f1_score(Y_true, Y_pred_classes, average='weighted')\n",
    "print(f\"F1 Puanı: {f1:.4f}\")"
   ]
  },
  {
   "cell_type": "code",
   "execution_count": null,
   "metadata": {
    "execution": {
     "iopub.execute_input": "2023-08-25T11:27:17.886644Z",
     "iopub.status.busy": "2023-08-25T11:27:17.886185Z",
     "iopub.status.idle": "2023-08-25T11:27:18.628404Z",
     "shell.execute_reply": "2023-08-25T11:27:18.626733Z",
     "shell.execute_reply.started": "2023-08-25T11:27:17.886605Z"
    }
   },
   "outputs": [],
   "source": [
    "confusion_mtx = confusion_matrix(Y_true, Y_pred_classes) \n",
    "f,ax = plt.subplots(figsize=(7, 6))\n",
    "sns.heatmap(confusion_mtx, annot=True, linewidths=0.01,cmap=\"viridis\",linecolor=\"gray\", fmt= '.1f',ax=ax)\n",
    "plt.xlabel(\"Predicted Label\")\n",
    "plt.ylabel(\"True Label\")\n",
    "plt.title(\"Confusion Matrix\")\n",
    "plt.show()"
   ]
  },
  {
   "cell_type": "code",
   "execution_count": null,
   "metadata": {
    "execution": {
     "iopub.execute_input": "2023-08-25T11:27:30.796195Z",
     "iopub.status.busy": "2023-08-25T11:27:30.795693Z",
     "iopub.status.idle": "2023-08-25T11:27:32.859739Z",
     "shell.execute_reply": "2023-08-25T11:27:32.858760Z",
     "shell.execute_reply.started": "2023-08-25T11:27:30.796057Z"
    }
   },
   "outputs": [],
   "source": [
    "label_encoder = LabelEncoder()\n",
    "label_encoder.fit(Y_true)\n",
    "\n",
    "inverted_true = label_encoder.inverse_transform(Y_true)\n",
    "inverted_pred = label_encoder.inverse_transform(Y_pred_classes)\n",
    "\n",
    "label_map = {0: 'Palm', 1: 'L', 2: 'Fist', 3: 'Fist Moved', 4: 'Thumb', 5: 'Index', 6: 'OK', 7: 'Palm Moved', 8: 'C', 9: 'Down'}\n",
    "\n",
    "inverted_true_names = [label_map.get(label, label) for label in inverted_true]\n",
    "inverted_pred_names = [label_map.get(label, label) for label in inverted_pred]\n",
    "\n",
    "sample_indices = np.random.choice(len(X_val), size=10, replace=False)\n",
    "\n",
    "for idx in sample_indices:\n",
    "    plt.figure(figsize=(3, 2))\n",
    "\n",
    "    plt.imshow(X_val[idx].reshape(50, 50), cmap='gray')\n",
    "    plt.title(f\"Tahmin: {inverted_pred_names[idx]}, Gerçek Etiket: {inverted_true_names[idx]}\")\n",
    "    plt.axis('off')\n",
    "\n",
    "    plt.tight_layout()\n",
    "    plt.show()"
   ]
  }
 ],
 "metadata": {
  "kernelspec": {
   "display_name": "Python 3",
   "language": "python",
   "name": "python3"
  },
  "language_info": {
   "codemirror_mode": {
    "name": "ipython",
    "version": 3
   },
   "file_extension": ".py",
   "mimetype": "text/x-python",
   "name": "python",
   "nbconvert_exporter": "python",
   "pygments_lexer": "ipython3",
   "version": "3.7.4"
  }
 },
 "nbformat": 4,
 "nbformat_minor": 4
}
