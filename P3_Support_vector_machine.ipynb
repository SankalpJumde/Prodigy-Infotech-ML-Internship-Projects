{
 "cells": [
  {
   "cell_type": "markdown",
   "metadata": {},
   "source": [
    "# Project 3: Vector machine (SVM) using Machine Learning"
   ]
  },
  {
   "cell_type": "markdown",
   "metadata": {},
   "source": [
    "Implement a support vector machine (SVM) to classify images of cats and dogs from the Kaggle dataset."
   ]
  },
  {
   "cell_type": "code",
   "execution_count": null,
   "metadata": {},
   "outputs": [],
   "source": []
  },
  {
   "cell_type": "markdown",
   "metadata": {},
   "source": [
    "# Introduction \n",
    "\n",
    "![](https://miro.medium.com/max/1400/1*oB3S5yHHhvougJkPXuc8og.gif)\n",
    "\n",
    "## What is Image classification?\n",
    "Image classification is the process of categorizing and labeling groups of pixels or vectors within an image based on specific rules. The categorization law can be devised using one or more spectral or textural characteristics.\n",
    "\n",
    "##  Different image classification techniques:\n",
    "![](https://raw.githubusercontent.com/everydaycodings/files-for-multiplethings/master/1.png)"
   ]
  },
  {
   "cell_type": "markdown",
   "metadata": {},
   "source": [
    "## Importing the Usefull Modules"
   ]
  },
  {
   "cell_type": "code",
   "execution_count": null,
   "metadata": {
    "execution": {
     "iopub.execute_input": "2021-12-09T16:12:49.375064Z",
     "iopub.status.busy": "2021-12-09T16:12:49.374811Z",
     "iopub.status.idle": "2021-12-09T16:12:49.380700Z",
     "shell.execute_reply": "2021-12-09T16:12:49.379889Z",
     "shell.execute_reply.started": "2021-12-09T16:12:49.375038Z"
    }
   },
   "outputs": [],
   "source": [
    "import pandas as pd\n",
    "import numpy as np\n",
    "import tensorflow as tf\n",
    "\n",
    "import warnings\n",
    "warnings.filterwarnings('ignore')"
   ]
  },
  {
   "cell_type": "markdown",
   "metadata": {},
   "source": [
    "### The Code Given Below Tells to Computer that I will not be using my Entire GPU power. Just use till maximum of 60%"
   ]
  },
  {
   "cell_type": "code",
   "execution_count": null,
   "metadata": {
    "execution": {
     "iopub.execute_input": "2021-12-09T16:12:49.382994Z",
     "iopub.status.busy": "2021-12-09T16:12:49.382730Z",
     "iopub.status.idle": "2021-12-09T16:12:49.399731Z",
     "shell.execute_reply": "2021-12-09T16:12:49.398661Z",
     "shell.execute_reply.started": "2021-12-09T16:12:49.382961Z"
    }
   },
   "outputs": [],
   "source": [
    "from tensorflow.compat.v1 import ConfigProto\n",
    "from tensorflow.compat.v1 import InteractiveSession\n",
    "\n",
    "config = ConfigProto()\n",
    "config.gpu_options.per_process_gpu_memory_fraction = 0.6\n",
    "config.gpu_options.allow_growth = True\n",
    "session = InteractiveSession(config=config)"
   ]
  },
  {
   "cell_type": "markdown",
   "metadata": {},
   "source": [
    "### Preprocessing the training Data using ImageDataGenerator\n",
    "#### One of the methods to prevent overfitting is to have more data. By this, our model will be exposed to more aspects of data and thus will generalize better. To get more data, either you manually collect data or generate data from the existing data by applying some transformations. The latter method is known as Data Augmentation.\n",
    "\n",
    " - **rescale:** rescaling factor. If None or 0, no rescaling is applied, otherwise we multiply the data by the value provided.\n",
    " - **shear_range:** This is the shear angle in the counter-clockwise direction in degrees.\n",
    " - **zoom_range:** This zooms the image.\n",
    " - **horizontal_flip:** Randomly flips the input image in the horizontal direction.\n"
   ]
  },
  {
   "cell_type": "code",
   "execution_count": null,
   "metadata": {
    "execution": {
     "iopub.execute_input": "2021-12-09T16:12:49.401981Z",
     "iopub.status.busy": "2021-12-09T16:12:49.401710Z",
     "iopub.status.idle": "2021-12-09T16:12:50.931010Z",
     "shell.execute_reply": "2021-12-09T16:12:50.930263Z",
     "shell.execute_reply.started": "2021-12-09T16:12:49.401944Z"
    }
   },
   "outputs": [],
   "source": [
    "from tensorflow.keras.preprocessing.image import ImageDataGenerator\n",
    "\n",
    "datagen = ImageDataGenerator(rescale=1./255, shear_range=0.2, zoom_range=0.2, horizontal_flip=True)\n",
    "\n",
    "training_set = datagen.flow_from_directory(\n",
    "        \"../input/cat-and-dog/training_set/training_set/\",\n",
    "        target_size=(64, 64),\n",
    "        batch_size=32,\n",
    "        class_mode=\"binary\"\n",
    "      )\n"
   ]
  },
  {
   "cell_type": "markdown",
   "metadata": {},
   "source": [
    "### Preprocessing the test Data using ImageDataGenerator"
   ]
  },
  {
   "cell_type": "code",
   "execution_count": null,
   "metadata": {
    "execution": {
     "iopub.execute_input": "2021-12-09T16:12:50.933193Z",
     "iopub.status.busy": "2021-12-09T16:12:50.932504Z",
     "iopub.status.idle": "2021-12-09T16:12:51.048407Z",
     "shell.execute_reply": "2021-12-09T16:12:51.047642Z",
     "shell.execute_reply.started": "2021-12-09T16:12:50.933152Z"
    }
   },
   "outputs": [],
   "source": [
    "datagen1 = ImageDataGenerator(rescale=1./255)\n",
    "\n",
    "test_set = datagen1.flow_from_directory(\n",
    "        \"../input/cat-and-dog/test_set/test_set\",\n",
    "        target_size=(64, 64),\n",
    "        batch_size=32,\n",
    "        class_mode=\"binary\"\n",
    "      )"
   ]
  },
  {
   "cell_type": "markdown",
   "metadata": {},
   "source": [
    "# Creating the Model"
   ]
  },
  {
   "cell_type": "markdown",
   "metadata": {},
   "source": [
    "### Importing useful models for CNN Layers"
   ]
  },
  {
   "cell_type": "code",
   "execution_count": null,
   "metadata": {
    "execution": {
     "iopub.execute_input": "2021-12-09T16:12:51.050027Z",
     "iopub.status.busy": "2021-12-09T16:12:51.049787Z",
     "iopub.status.idle": "2021-12-09T16:12:51.053916Z",
     "shell.execute_reply": "2021-12-09T16:12:51.053194Z",
     "shell.execute_reply.started": "2021-12-09T16:12:51.049994Z"
    }
   },
   "outputs": [],
   "source": [
    "from tensorflow.keras.layers import Conv2D\n",
    "from tensorflow.keras.layers import Dense"
   ]
  },
  {
   "cell_type": "code",
   "execution_count": null,
   "metadata": {
    "execution": {
     "iopub.execute_input": "2021-12-09T16:12:51.056931Z",
     "iopub.status.busy": "2021-12-09T16:12:51.056382Z",
     "iopub.status.idle": "2021-12-09T16:12:51.063238Z",
     "shell.execute_reply": "2021-12-09T16:12:51.062519Z",
     "shell.execute_reply.started": "2021-12-09T16:12:51.056893Z"
    }
   },
   "outputs": [],
   "source": [
    "from tensorflow.keras.regularizers import l2"
   ]
  },
  {
   "cell_type": "markdown",
   "metadata": {},
   "source": [
    "### When to use a Sequential model\n",
    "\n",
    "A Sequential model is appropriate for a plain stack of layers where each layer has exactly one input tensor and one output tensor.\n",
    "\n",
    "A Sequential model is **not appropriate** when:\n",
    "- Your model has multiple inputs or multiple outputs\n",
    "- Any of your layers has multiple inputs or multiple outputs\n",
    "- You need to do layer sharing\n",
    "- You want non-linear topology (e.g. a residual connection, a multi-branch model)\n"
   ]
  },
  {
   "cell_type": "code",
   "execution_count": null,
   "metadata": {
    "execution": {
     "iopub.execute_input": "2021-12-09T16:12:51.066563Z",
     "iopub.status.busy": "2021-12-09T16:12:51.065211Z",
     "iopub.status.idle": "2021-12-09T16:12:51.075891Z",
     "shell.execute_reply": "2021-12-09T16:12:51.075122Z",
     "shell.execute_reply.started": "2021-12-09T16:12:51.066484Z"
    }
   },
   "outputs": [],
   "source": [
    "cnn = tf.keras.models.Sequential()"
   ]
  },
  {
   "cell_type": "markdown",
   "metadata": {},
   "source": [
    "### Step 1 - Convolution\n",
    "This layer creates a convolution kernel that is convolved with the layer input to produce a tensor of outputs. If use_bias is True, a bias vector is created and added to the outputs. Finally, if activation is not None, it is applied to the outputs as well.\n",
    "\n",
    "When using this layer as the first layer in a model, provide the keyword argument input_shape (tuple of integers or None, does not include the sample axis), e.g. `input_shape=(64, 64, 3)` for 64x64 RGB pictures in `data_format=\"channels_last\"`. You can use None when a dimension has variable size.\n",
    "\n",
    "**Arguments Used:**\n",
    "- **filters:** Integer, the dimensionality of the output space.\n",
    "- **padding:** one of \"valid\" or \"same\". \"valid\" means no padding. \"same\" results in padding with zeros evenly to the left/right or up/down of the input such that output has the same height/width dimension as the input.\n",
    "- **kernel_size:** An integer or tuple/list of 2 integers, specifying the height and width of the 2D convolution window.\n",
    "- **activation:** Activation function to use. If you don't specify anything, no activation is applied.\n",
    "- **strides:** An integer or tuple/list of 2 integers, specifying the strides of the convolution along the height and width."
   ]
  },
  {
   "cell_type": "code",
   "execution_count": null,
   "metadata": {
    "execution": {
     "iopub.execute_input": "2021-12-09T16:12:51.078945Z",
     "iopub.status.busy": "2021-12-09T16:12:51.078265Z",
     "iopub.status.idle": "2021-12-09T16:12:51.095098Z",
     "shell.execute_reply": "2021-12-09T16:12:51.094149Z",
     "shell.execute_reply.started": "2021-12-09T16:12:51.078905Z"
    }
   },
   "outputs": [],
   "source": [
    "cnn.add(tf.keras.layers.Conv2D(filters=32,padding=\"same\",kernel_size=3, activation='relu', strides=2, input_shape=[64, 64, 3]))"
   ]
  },
  {
   "cell_type": "markdown",
   "metadata": {},
   "source": [
    "### Step 2 - Pooling\n",
    "Downsamples the input along its spatial dimensions (height and width) by taking the maximum value over an input window (of size defined by pool_size) for each channel of the input. The window is shifted by strides along each dimension."
   ]
  },
  {
   "cell_type": "code",
   "execution_count": null,
   "metadata": {
    "execution": {
     "iopub.execute_input": "2021-12-09T16:12:51.096099Z",
     "iopub.status.busy": "2021-12-09T16:12:51.095921Z",
     "iopub.status.idle": "2021-12-09T16:12:51.104720Z",
     "shell.execute_reply": "2021-12-09T16:12:51.103863Z",
     "shell.execute_reply.started": "2021-12-09T16:12:51.096071Z"
    }
   },
   "outputs": [],
   "source": [
    "cnn.add(tf.keras.layers.MaxPool2D(pool_size=2, strides=2))"
   ]
  },
  {
   "cell_type": "markdown",
   "metadata": {},
   "source": [
    "### Adding a second convolutional layer"
   ]
  },
  {
   "cell_type": "code",
   "execution_count": null,
   "metadata": {
    "execution": {
     "iopub.execute_input": "2021-12-09T16:12:51.106707Z",
     "iopub.status.busy": "2021-12-09T16:12:51.106165Z",
     "iopub.status.idle": "2021-12-09T16:12:51.122520Z",
     "shell.execute_reply": "2021-12-09T16:12:51.121833Z",
     "shell.execute_reply.started": "2021-12-09T16:12:51.106671Z"
    }
   },
   "outputs": [],
   "source": [
    "cnn.add(tf.keras.layers.Conv2D(filters=32,padding='same',kernel_size=3, activation='relu'))\n",
    "cnn.add(tf.keras.layers.MaxPool2D(pool_size=2, strides=2))"
   ]
  },
  {
   "cell_type": "markdown",
   "metadata": {},
   "source": [
    "### Step 3 - Flattening\n",
    "**Flattens the input. Does not affect the batch size.**\n",
    "\n",
    "**Note:** If inputs are shaped (batch,) without a feature axis, then flattening adds an extra channel dimension and output shape is (batch, 1)."
   ]
  },
  {
   "cell_type": "code",
   "execution_count": null,
   "metadata": {
    "execution": {
     "iopub.execute_input": "2021-12-09T16:12:51.124140Z",
     "iopub.status.busy": "2021-12-09T16:12:51.123708Z",
     "iopub.status.idle": "2021-12-09T16:12:51.131715Z",
     "shell.execute_reply": "2021-12-09T16:12:51.131030Z",
     "shell.execute_reply.started": "2021-12-09T16:12:51.124106Z"
    }
   },
   "outputs": [],
   "source": [
    "cnn.add(tf.keras.layers.Flatten())"
   ]
  },
  {
   "cell_type": "markdown",
   "metadata": {},
   "source": [
    "### Step 4 - Full Connection"
   ]
  },
  {
   "cell_type": "code",
   "execution_count": null,
   "metadata": {
    "execution": {
     "iopub.execute_input": "2021-12-09T16:12:51.136760Z",
     "iopub.status.busy": "2021-12-09T16:12:51.136137Z",
     "iopub.status.idle": "2021-12-09T16:12:51.149426Z",
     "shell.execute_reply": "2021-12-09T16:12:51.148693Z",
     "shell.execute_reply.started": "2021-12-09T16:12:51.136721Z"
    }
   },
   "outputs": [],
   "source": [
    "cnn.add(tf.keras.layers.Dense(units=128, activation='relu'))"
   ]
  },
  {
   "cell_type": "markdown",
   "metadata": {},
   "source": [
    "### Step 5 - Output Layer"
   ]
  },
  {
   "cell_type": "code",
   "execution_count": null,
   "metadata": {
    "execution": {
     "iopub.execute_input": "2021-12-09T16:12:51.151056Z",
     "iopub.status.busy": "2021-12-09T16:12:51.150779Z",
     "iopub.status.idle": "2021-12-09T16:12:51.163855Z",
     "shell.execute_reply": "2021-12-09T16:12:51.163143Z",
     "shell.execute_reply.started": "2021-12-09T16:12:51.151023Z"
    }
   },
   "outputs": [],
   "source": [
    "cnn.add(Dense(1, kernel_regularizer=tf.keras.regularizers.l2(0.01),activation\n",
    "             ='linear'))"
   ]
  },
  {
   "cell_type": "markdown",
   "metadata": {},
   "source": [
    "### Printing out the summary of the Layers"
   ]
  },
  {
   "cell_type": "code",
   "execution_count": null,
   "metadata": {
    "execution": {
     "iopub.execute_input": "2021-12-09T16:12:51.165583Z",
     "iopub.status.busy": "2021-12-09T16:12:51.165114Z",
     "iopub.status.idle": "2021-12-09T16:12:51.175650Z",
     "shell.execute_reply": "2021-12-09T16:12:51.174662Z",
     "shell.execute_reply.started": "2021-12-09T16:12:51.165547Z"
    }
   },
   "outputs": [],
   "source": [
    "cnn.summary()"
   ]
  },
  {
   "cell_type": "markdown",
   "metadata": {},
   "source": [
    "## Training the CNN"
   ]
  },
  {
   "cell_type": "markdown",
   "metadata": {},
   "source": [
    "### Compiling the CNN\n",
    "#### Attributes:\n",
    "- **optimizer:** String (name of optimizer) or optimizer instance.\n",
    "- **loss:** Loss function.\n",
    "- **metrics:** List of metrics to be evaluated by the model during training and testing. "
   ]
  },
  {
   "cell_type": "code",
   "execution_count": null,
   "metadata": {
    "execution": {
     "iopub.execute_input": "2021-12-09T16:12:51.177510Z",
     "iopub.status.busy": "2021-12-09T16:12:51.176692Z",
     "iopub.status.idle": "2021-12-09T16:12:51.187494Z",
     "shell.execute_reply": "2021-12-09T16:12:51.186495Z",
     "shell.execute_reply.started": "2021-12-09T16:12:51.177472Z"
    }
   },
   "outputs": [],
   "source": [
    "cnn.compile(optimizer = 'adam', loss = 'hinge', metrics = ['accuracy'])"
   ]
  },
  {
   "cell_type": "markdown",
   "metadata": {},
   "source": [
    "### Training the CNN on the Training set and evaluating it on the Test set\n",
    "#### Attributes:\n",
    "- **x:** Input data\n",
    "- **validation_data:** Data on which to evaluate the loss and any model metrics at the end of each epoch.\n",
    "- **epochs:** Integer. Number of epochs to train the model."
   ]
  },
  {
   "cell_type": "code",
   "execution_count": null,
   "metadata": {
    "execution": {
     "iopub.execute_input": "2021-12-09T16:12:51.189225Z",
     "iopub.status.busy": "2021-12-09T16:12:51.188967Z",
     "iopub.status.idle": "2021-12-09T16:21:59.056429Z",
     "shell.execute_reply": "2021-12-09T16:21:59.055597Z",
     "shell.execute_reply.started": "2021-12-09T16:12:51.189191Z"
    }
   },
   "outputs": [],
   "source": [
    "r=cnn.fit(x = training_set, validation_data = test_set, epochs = 15)"
   ]
  },
  {
   "cell_type": "markdown",
   "metadata": {},
   "source": [
    "## Ploting the Train loss,val loss and train acc, val acc"
   ]
  },
  {
   "cell_type": "code",
   "execution_count": null,
   "metadata": {
    "execution": {
     "iopub.execute_input": "2021-12-09T16:21:59.058667Z",
     "iopub.status.busy": "2021-12-09T16:21:59.057809Z",
     "iopub.status.idle": "2021-12-09T16:21:59.440896Z",
     "shell.execute_reply": "2021-12-09T16:21:59.440219Z",
     "shell.execute_reply.started": "2021-12-09T16:21:59.058626Z"
    }
   },
   "outputs": [],
   "source": [
    "# plot the loss\n",
    "import matplotlib.pyplot as plt\n",
    "plt.plot(r.history['loss'], label='train loss')\n",
    "plt.plot(r.history['val_loss'], label='val loss')\n",
    "plt.legend()\n",
    "plt.show()\n",
    "\n",
    "# plot the accuracy\n",
    "plt.plot(r.history['accuracy'], label='train acc')\n",
    "plt.plot(r.history['val_accuracy'], label='val acc')\n",
    "plt.legend()\n",
    "plt.show()"
   ]
  },
  {
   "cell_type": "markdown",
   "metadata": {},
   "source": [
    "### Saving the trained model"
   ]
  },
  {
   "cell_type": "code",
   "execution_count": null,
   "metadata": {
    "execution": {
     "iopub.execute_input": "2021-12-09T16:21:59.442311Z",
     "iopub.status.busy": "2021-12-09T16:21:59.442059Z",
     "iopub.status.idle": "2021-12-09T16:21:59.504716Z",
     "shell.execute_reply": "2021-12-09T16:21:59.504001Z",
     "shell.execute_reply.started": "2021-12-09T16:21:59.442276Z"
    }
   },
   "outputs": [],
   "source": [
    "from tensorflow.keras.models import load_model\n",
    "\n",
    "cnn.save('./model_rcat_dog.h5')"
   ]
  },
  {
   "cell_type": "markdown",
   "metadata": {},
   "source": [
    "### Taking the sample image converting the image to an array and predicting the result"
   ]
  },
  {
   "cell_type": "code",
   "execution_count": null,
   "metadata": {
    "execution": {
     "iopub.execute_input": "2021-12-09T16:21:59.599065Z",
     "iopub.status.busy": "2021-12-09T16:21:59.598873Z",
     "iopub.status.idle": "2021-12-09T16:21:59.694136Z",
     "shell.execute_reply": "2021-12-09T16:21:59.693429Z",
     "shell.execute_reply.started": "2021-12-09T16:21:59.599041Z"
    }
   },
   "outputs": [],
   "source": [
    "from tensorflow.keras.preprocessing import image\n",
    "test_image = image.load_img('../input/cat-and-dog/training_set/training_set/dogs/dog.1023.jpg', target_size = (64,64))\n",
    "test_image = image.img_to_array(test_image)\n",
    "test_image=test_image/255\n",
    "test_image = np.expand_dims(test_image, axis = 0)\n",
    "result = cnn.predict(test_image)"
   ]
  },
  {
   "cell_type": "code",
   "execution_count": null,
   "metadata": {
    "execution": {
     "iopub.execute_input": "2021-12-09T16:21:59.695935Z",
     "iopub.status.busy": "2021-12-09T16:21:59.695681Z",
     "iopub.status.idle": "2021-12-09T16:21:59.701287Z",
     "shell.execute_reply": "2021-12-09T16:21:59.700558Z",
     "shell.execute_reply.started": "2021-12-09T16:21:59.695901Z"
    }
   },
   "outputs": [],
   "source": [
    "if result[0]<0:\n",
    "    print(\"The image classified is cat\")\n",
    "else:\n",
    "    print(\"The image classified is dog\")"
   ]
  },
  {
   "cell_type": "markdown",
   "metadata": {},
   "source": [
    "# Conclusion\n",
    "## This was Just a Introduction to Image Classification. In the upcomming Noteboook i will work on more complex real world problems."
   ]
  }
 ],
 "metadata": {
  "kernelspec": {
   "display_name": "Python 3",
   "language": "python",
   "name": "python3"
  },
  "language_info": {
   "codemirror_mode": {
    "name": "ipython",
    "version": 3
   },
   "file_extension": ".py",
   "mimetype": "text/x-python",
   "name": "python",
   "nbconvert_exporter": "python",
   "pygments_lexer": "ipython3",
   "version": "3.7.4"
  }
 },
 "nbformat": 4,
 "nbformat_minor": 4
}
